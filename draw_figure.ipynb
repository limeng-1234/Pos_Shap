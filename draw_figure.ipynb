{
 "cells": [
  {
   "cell_type": "code",
   "metadata": {
    "collapsed": true,
    "pycharm": {
     "is_executing": true
    },
    "ExecuteTime": {
     "end_time": "2024-08-08T15:49:25.467220Z",
     "start_time": "2024-08-08T15:49:25.452441Z"
    }
   },
   "source": [
    "# 加载模型\n",
    "import torch\n",
    "from stable_baselines3 import DQN\n",
    "import pandas as pd\n",
    "\n",
    "# model = DQN.load(\"./model/SACE_dqn_model\",device='cpu')\n",
    "# model_lane_change = model.policy.q_net.q_net\n",
    "model_path = \"dqn_follow.zip\"\n",
    "device = 'cpu'  # 如果需要在 GPU 上推断，可以改为 'cuda'\n",
    "model = DQN.load(model_path, device=device)\n",
    "model_q_net = model.policy.q_net.q_net\n",
    "# data = torch.load(\"./data/SACE_dqn_data.pth\")\n",
    "# data_x = torch.stack(data)"
   ],
   "outputs": [
    {
     "name": "stderr",
     "output_type": "stream",
     "text": [
      "Could not deserialize object lr_schedule. Consider using `custom_objects` argument to replace this object.\n",
      "Exception: an integer is required (got type bytes)\n",
      "Could not deserialize object exploration_schedule. Consider using `custom_objects` argument to replace this object.\n",
      "Exception: an integer is required (got type bytes)\n"
     ]
    }
   ],
   "execution_count": 292
  },
  {
   "cell_type": "code",
   "source": [
    "data_pd = pd.read_csv(\"data_1.csv\")\n",
    "data_pd['field.f1_speed'] = data_pd['field.f1_speed'] - data_pd['field.ego_speed']  \n",
    "data_x = torch.tensor(data_pd.values, dtype=torch.float32)\n"
   ],
   "metadata": {
    "collapsed": false,
    "pycharm": {
     "name": "#%%\n"
    },
    "ExecuteTime": {
     "end_time": "2024-08-08T15:49:25.533815Z",
     "start_time": "2024-08-08T15:49:25.525739Z"
    }
   },
   "outputs": [],
   "execution_count": 293
  },
  {
   "cell_type": "code",
   "source": [
    "# import pandas as pd\n",
    "# import shap\n",
    "# import matplotlib.font_manager as fm\n",
    "# import matplotlib\n",
    "# matplotlib.use('TkAgg')  # 或其他支持动画的后端，如 'Qt5Agg'\n",
    "# import pickle\n",
    "# import pandas as pd\n",
    "# import shap\n",
    "# # 设置 Matplotlib 的默认样式\n",
    "# import matplotlib.pyplot as plt\n",
    "# plt.style.use('default')\n",
    "# plt.rcParams['savefig.format'] = 'svg'\n",
    "#\n",
    "# # 设置 Matplotlib 的默认背景色为白色\n",
    "# plt.rcParams['axes.facecolor'] = 'white'"
   ],
   "metadata": {
    "collapsed": false,
    "pycharm": {
     "name": "#%%\n"
    },
    "ExecuteTime": {
     "end_time": "2024-08-08T15:49:25.548924Z",
     "start_time": "2024-08-08T15:49:25.544584Z"
    }
   },
   "outputs": [],
   "execution_count": 294
  },
  {
   "cell_type": "code",
   "source": [
    "from FullyNet_Shapleyflowtest import FullyNet_Shapleyflow"
   ],
   "metadata": {
    "collapsed": false,
    "pycharm": {
     "name": "#%%\n"
    },
    "ExecuteTime": {
     "end_time": "2024-08-08T15:49:25.555432Z",
     "start_time": "2024-08-08T15:49:25.551714Z"
    }
   },
   "outputs": [],
   "execution_count": 295
  },
  {
   "metadata": {
    "ExecuteTime": {
     "end_time": "2024-08-08T15:49:25.590742Z",
     "start_time": "2024-08-08T15:49:25.573389Z"
    }
   },
   "cell_type": "code",
   "source": "model_q_net(data_x)",
   "outputs": [
    {
     "data": {
      "text/plain": [
       "tensor([[ 1.5900e+00,  2.0237e+00,  2.7224e+00],\n",
       "        [ 1.2965e+00,  1.8472e+00,  2.5823e+00],\n",
       "        [ 1.2738e+00,  1.8281e+00,  2.5648e+00],\n",
       "        [ 1.2738e+00,  1.8281e+00,  2.5648e+00],\n",
       "        [ 7.8385e-01,  1.5114e+00,  2.2202e+00],\n",
       "        [ 7.8385e-01,  1.5114e+00,  2.2202e+00],\n",
       "        [ 7.8385e-01,  1.5114e+00,  2.2202e+00],\n",
       "        [ 7.8385e-01,  1.5114e+00,  2.2202e+00],\n",
       "        [ 4.7933e-01,  1.2923e+00,  1.9942e+00],\n",
       "        [ 4.7933e-01,  1.2923e+00,  1.9942e+00],\n",
       "        [ 4.7933e-01,  1.2923e+00,  1.9942e+00],\n",
       "        [ 4.7933e-01,  1.2923e+00,  1.9942e+00],\n",
       "        [ 3.5724e-01,  1.1728e+00,  1.8876e+00],\n",
       "        [ 3.5724e-01,  1.1728e+00,  1.8876e+00],\n",
       "        [ 3.5724e-01,  1.1728e+00,  1.8876e+00],\n",
       "        [ 3.5724e-01,  1.1728e+00,  1.8876e+00],\n",
       "        [ 4.3171e-01,  1.2347e+00,  1.9471e+00],\n",
       "        [ 4.3171e-01,  1.2347e+00,  1.9471e+00],\n",
       "        [ 4.3171e-01,  1.2347e+00,  1.9471e+00],\n",
       "        [ 4.3171e-01,  1.2347e+00,  1.9471e+00],\n",
       "        [ 4.5217e-01,  1.2540e+00,  1.9646e+00],\n",
       "        [ 4.5217e-01,  1.2540e+00,  1.9646e+00],\n",
       "        [ 4.5217e-01,  1.2540e+00,  1.9646e+00],\n",
       "        [ 4.5217e-01,  1.2540e+00,  1.9646e+00],\n",
       "        [ 4.4389e-01,  1.2495e+00,  1.9592e+00],\n",
       "        [ 4.4389e-01,  1.2495e+00,  1.9592e+00],\n",
       "        [ 4.4389e-01,  1.2495e+00,  1.9592e+00],\n",
       "        [ 4.4389e-01,  1.2495e+00,  1.9592e+00],\n",
       "        [ 4.2291e-01,  1.2338e+00,  1.9433e+00],\n",
       "        [ 4.2291e-01,  1.2338e+00,  1.9433e+00],\n",
       "        [ 4.2291e-01,  1.2338e+00,  1.9433e+00],\n",
       "        [ 4.2291e-01,  1.2338e+00,  1.9433e+00],\n",
       "        [ 4.1391e-01,  1.2069e+00,  1.9263e+00],\n",
       "        [ 4.1391e-01,  1.2069e+00,  1.9263e+00],\n",
       "        [ 4.1391e-01,  1.2069e+00,  1.9263e+00],\n",
       "        [ 4.1391e-01,  1.2069e+00,  1.9263e+00],\n",
       "        [ 4.0471e-01,  1.1509e+00,  1.8902e+00],\n",
       "        [ 4.0471e-01,  1.1509e+00,  1.8902e+00],\n",
       "        [ 4.0471e-01,  1.1509e+00,  1.8902e+00],\n",
       "        [ 4.0471e-01,  1.1509e+00,  1.8902e+00],\n",
       "        [ 1.1422e+00,  1.6115e+00,  2.2994e+00],\n",
       "        [ 1.7431e+00,  2.0486e+00,  2.6756e+00],\n",
       "        [ 2.3048e+00,  2.4525e+00,  3.0151e+00],\n",
       "        [ 2.2901e+00,  2.4325e+00,  2.9151e+00],\n",
       "        [ 2.2469e+00,  2.3839e+00,  2.8621e+00],\n",
       "        [ 2.2055e+00,  2.3399e+00,  2.8321e+00],\n",
       "        [ 2.1079e+00,  2.2473e+00,  2.6846e+00],\n",
       "        [ 2.0590e+00,  2.1922e+00,  2.6315e+00],\n",
       "        [ 1.9802e+00,  2.1085e+00,  2.5443e+00],\n",
       "        [ 1.8190e+00,  1.9522e+00,  2.3162e+00],\n",
       "        [ 1.7422e+00,  1.8738e+00,  2.2282e+00],\n",
       "        [ 1.6407e+00,  1.7687e+00,  2.1166e+00],\n",
       "        [ 1.5729e+00,  1.7213e+00,  2.0140e+00],\n",
       "        [ 1.5707e+00,  1.7123e+00,  2.0171e+00],\n",
       "        [ 1.4687e+00,  1.6039e+00,  1.9054e+00],\n",
       "        [ 1.4018e+00,  1.5605e+00,  1.8042e+00],\n",
       "        [ 1.2251e+00,  1.3764e+00,  1.5752e+00],\n",
       "        [ 1.1240e+00,  1.2640e+00,  1.4568e+00],\n",
       "        [ 1.0602e+00,  1.2150e+00,  1.3454e+00],\n",
       "        [ 9.6749e-01,  1.1158e+00,  1.2296e+00],\n",
       "        [ 8.6730e-01,  1.0044e+00,  1.1121e+00],\n",
       "        [ 8.0284e-01,  9.5441e-01,  9.9994e-01],\n",
       "        [ 7.7934e-01,  9.2603e-01,  9.8341e-01],\n",
       "        [ 6.9625e-01,  8.3091e-01,  8.8140e-01],\n",
       "        [ 4.8982e-01,  5.9767e-01,  5.6720e-01],\n",
       "        [ 3.7637e-01,  4.7090e-01,  4.2347e-01],\n",
       "        [ 2.7188e-01,  3.5692e-01,  3.0356e-01],\n",
       "        [ 1.0801e-01,  1.5832e-01,  6.3343e-02],\n",
       "        [ 4.9010e-04,  3.8798e-02, -6.8764e-02],\n",
       "        [-9.5284e-02, -6.9286e-02, -1.8036e-01],\n",
       "        [-2.3236e-01, -2.2606e-01, -3.8363e-01],\n",
       "        [-2.3236e-01, -2.2606e-01, -3.8363e-01],\n",
       "        [-5.6615e-01, -6.2291e-01, -7.7136e-01],\n",
       "        [-5.5944e-01, -5.9022e-01, -7.0074e-01],\n",
       "        [-5.2744e-01, -5.3708e-01, -5.0658e-01],\n",
       "        [-4.9692e-01, -4.0728e-01, -2.5310e-01],\n",
       "        [-1.3236e-01, -7.7056e-02, -5.4877e-02],\n",
       "        [ 1.1988e-01,  1.7974e-01,  1.3202e-01],\n",
       "        [-2.5365e-01, -2.4486e-01, -4.0084e-01],\n",
       "        [-3.5234e-01, -3.5092e-01, -4.9535e-01],\n",
       "        [-3.6510e-01, -4.0686e-01, -5.6703e-01],\n",
       "        [-4.5703e-01, -4.6989e-01, -5.7213e-01],\n",
       "        [-4.6369e-01, -4.5599e-01, -4.1349e-01],\n",
       "        [-4.3077e-01, -3.3292e-01, -1.6089e-01],\n",
       "        [ 1.2131e-02,  7.8835e-02,  1.3283e-01],\n",
       "        [ 1.8581e-01,  2.6153e-01,  2.3590e-01],\n",
       "        [-1.5033e-02,  2.3669e-02, -9.6312e-02],\n",
       "        [-9.7607e-02, -7.1402e-02, -1.7907e-01],\n",
       "        [-2.3768e-01, -2.3635e-01, -3.9400e-01],\n",
       "        [-3.6631e-01, -3.7661e-01, -5.3789e-01],\n",
       "        [-4.9082e-01, -5.0524e-01, -6.4628e-01],\n",
       "        [-4.5746e-01, -4.5266e-01, -4.6987e-01],\n",
       "        [-5.5263e-01, -4.5031e-01, -2.7477e-01],\n",
       "        [-4.3121e-01, -2.9651e-01, -9.9719e-02],\n",
       "        [ 9.0970e-02,  1.5727e-01,  2.6744e-01],\n",
       "        [ 2.8309e-01,  3.7380e-01,  3.8629e-01],\n",
       "        [ 2.5970e-01,  3.3642e-01,  2.7178e-01]], grad_fn=<AddmmBackward0>)"
      ]
     },
     "execution_count": 296,
     "metadata": {},
     "output_type": "execute_result"
    }
   ],
   "execution_count": 296
  },
  {
   "cell_type": "code",
   "source": [
    "# max_indices = torch.argmax(model_q_net(data_x), dim=1)\n",
    "# 找到每组输出的最大值及其索引\n",
    "max_values, max_indices = torch.max(model_q_net(data_x), dim=1) # 所有被选择的决策索引，及其输出值\n",
    "# 找到最大值中的最小值的索引\n",
    "min_indices_in_max_values = torch.argmin(max_values)  # 输出值最小的索引，正定基值点索引"
   ],
   "metadata": {
    "collapsed": false,
    "pycharm": {
     "name": "#%%\n"
    },
    "ExecuteTime": {
     "end_time": "2024-08-08T15:49:25.596304Z",
     "start_time": "2024-08-08T15:49:25.592400Z"
    }
   },
   "outputs": [],
   "execution_count": 297
  },
  {
   "cell_type": "code",
   "source": [
    "background = data_x[min_indices_in_max_values:min_indices_in_max_values+1]"
   ],
   "metadata": {
    "collapsed": false,
    "pycharm": {
     "name": "#%%\n"
    },
    "ExecuteTime": {
     "end_time": "2024-08-08T15:49:25.600560Z",
     "start_time": "2024-08-08T15:49:25.597871Z"
    }
   },
   "outputs": [],
   "execution_count": 298
  },
  {
   "cell_type": "code",
   "source": [
    "test_aa = FullyNet_Shapleyflow(model_q_net, background)\n",
    "aaaaa = test_aa.calculate_shapley_flow(data_x)"
   ],
   "metadata": {
    "collapsed": false,
    "pycharm": {
     "name": "#%%\n"
    },
    "ExecuteTime": {
     "end_time": "2024-08-08T15:49:25.681687Z",
     "start_time": "2024-08-08T15:49:25.622019Z"
    }
   },
   "outputs": [],
   "execution_count": 299
  },
  {
   "cell_type": "markdown",
   "source": [
    "## 绘图"
   ],
   "metadata": {
    "collapsed": false,
    "pycharm": {
     "name": "#%% md\n"
    }
   }
  },
  {
   "cell_type": "markdown",
   "source": [
    "### 局部解释图"
   ],
   "metadata": {
    "collapsed": false,
    "pycharm": {
     "name": "#%% md\n"
    }
   }
  },
  {
   "cell_type": "markdown",
   "source": [
    "#### 局部减速解释"
   ],
   "metadata": {
    "collapsed": false,
    "pycharm": {
     "name": "#%% md\n"
    }
   }
  },
  {
   "cell_type": "code",
   "source": [
    "# 找到元素是 0 的索引\n",
    "indices_0 = torch.nonzero(max_indices == 0).squeeze()\n",
    "\n",
    "# 找到元素是 1 的索引\n",
    "indices_1 = torch.nonzero(max_indices == 1).squeeze()\n",
    "\n",
    "# 找到元素是 2 的索引\n",
    "indices_2 = torch.nonzero(max_indices == 2).squeeze()"
   ],
   "metadata": {
    "collapsed": false,
    "pycharm": {
     "name": "#%%\n"
    },
    "ExecuteTime": {
     "end_time": "2024-08-08T15:49:25.687220Z",
     "start_time": "2024-08-08T15:49:25.683451Z"
    }
   },
   "outputs": [],
   "execution_count": 300
  },
  {
   "cell_type": "code",
   "source": [
    "import shap\n",
    "sample_index = indices_0[0]   # 样本索引\n",
    "out_index = 0      # 输出索引\n",
    "shapley_value = aaaaa[sample_index][out_index].numpy()\n",
    "base_value = model_q_net(background)[0][out_index].detach().numpy()"
   ],
   "metadata": {
    "collapsed": false,
    "pycharm": {
     "name": "#%%\n"
    },
    "ExecuteTime": {
     "end_time": "2024-08-08T15:49:25.692104Z",
     "start_time": "2024-08-08T15:49:25.688534Z"
    }
   },
   "outputs": [],
   "execution_count": 301
  },
  {
   "metadata": {
    "ExecuteTime": {
     "end_time": "2024-08-08T15:49:25.697942Z",
     "start_time": "2024-08-08T15:49:25.693686Z"
    }
   },
   "cell_type": "code",
   "source": "model_q_net(background)",
   "outputs": [
    {
     "data": {
      "text/plain": [
       "tensor([[-0.5662, -0.6229, -0.7714]], grad_fn=<AddmmBackward0>)"
      ]
     },
     "execution_count": 302,
     "metadata": {},
     "output_type": "execute_result"
    }
   ],
   "execution_count": 302
  },
  {
   "cell_type": "code",
   "source": [
    "expl = shap.Explanation(values=shapley_value, base_values=base_value.item())\n",
    "expl.data = data_x[sample_index].numpy()\n",
    "obs_name = ['$\\Delta d$', '$\\Delta v$', '$v$']\n",
    "expl.feature_names = obs_name"
   ],
   "metadata": {
    "collapsed": false,
    "pycharm": {
     "name": "#%%\n"
    },
    "ExecuteTime": {
     "end_time": "2024-08-08T15:49:25.702449Z",
     "start_time": "2024-08-08T15:49:25.699172Z"
    }
   },
   "outputs": [],
   "execution_count": 303
  },
  {
   "cell_type": "code",
   "source": [
    "import matplotlib\n",
    "matplotlib.use('TkAgg')  # 或其他支持动画的后端，如 'Qt5Agg'\n",
    "import pickle\n",
    "import pandas as pd\n",
    "import shap\n",
    "# 设置 Matplotlib 的默认样式\n",
    "import matplotlib.pyplot as plt\n",
    "plt.style.use('default')\n",
    "plt.rcParams['savefig.format'] = 'svg'\n",
    "%matplotlib inline\n",
    "shap.waterfall_plot(expl, show=False)\n",
    "plt.savefig('figure/局部减速.svg',dpi=600, bbox_inches='tight')\n",
    "plt.close()\n",
    "# plt.cla()"
   ],
   "metadata": {
    "collapsed": false,
    "pycharm": {
     "name": "#%%\n"
    },
    "ExecuteTime": {
     "end_time": "2024-08-08T15:49:26.004497Z",
     "start_time": "2024-08-08T15:49:25.704089Z"
    }
   },
   "outputs": [],
   "execution_count": 304
  },
  {
   "cell_type": "markdown",
   "source": [
    "#### 局部保持解释"
   ],
   "metadata": {
    "collapsed": false,
    "pycharm": {
     "name": "#%% md\n"
    }
   }
  },
  {
   "cell_type": "code",
   "source": [
    "sample_index = indices_1[0]  # 样本索引\n",
    "out_index = 1  # 输出索引\n",
    "shapley_value = aaaaa[sample_index][out_index].numpy()\n",
    "base_value = model_q_net(background)[0][out_index].detach().numpy()\n",
    "expl = shap.Explanation(values=shapley_value, base_values=base_value.item())\n",
    "expl.data = data_x[sample_index].numpy()\n",
    "expl.feature_names = obs_name\n"
   ],
   "metadata": {
    "collapsed": false,
    "pycharm": {
     "name": "#%%\n",
     "is_executing": true
    },
    "ExecuteTime": {
     "end_time": "2024-08-08T15:49:26.011785Z",
     "start_time": "2024-08-08T15:49:26.006694Z"
    }
   },
   "outputs": [],
   "execution_count": 305
  },
  {
   "cell_type": "code",
   "source": [
    "plt.style.use('default')\n",
    "plt.rcParams['savefig.format'] = 'svg'\n",
    "%matplotlib inline\n",
    "shap.waterfall_plot(expl, show=False)\n",
    "plt.savefig('figure/局部保持.svg', dpi=600, bbox_inches='tight')\n",
    "plt.close()\n",
    "# plt.cla()"
   ],
   "metadata": {
    "collapsed": false,
    "pycharm": {
     "name": "#%%\n"
    },
    "ExecuteTime": {
     "end_time": "2024-08-08T15:49:26.313163Z",
     "start_time": "2024-08-08T15:49:26.013400Z"
    }
   },
   "outputs": [],
   "execution_count": 306
  },
  {
   "cell_type": "markdown",
   "source": [
    "#### 局部加速解释"
   ],
   "metadata": {
    "collapsed": false,
    "pycharm": {
     "name": "#%% md\n"
    }
   }
  },
  {
   "cell_type": "code",
   "source": [
    "sample_index = indices_2[55]  # 样本索引\n",
    "out_index = 2  # 输出索引\n",
    "shapley_value = aaaaa[sample_index][out_index].numpy()\n",
    "base_value = model_q_net(background)[0][out_index].detach().numpy()\n",
    "expl = shap.Explanation(values=shapley_value, base_values=base_value.item())\n",
    "expl.data = data_x[sample_index].numpy()\n",
    "expl.feature_names = obs_name\n",
    "\n",
    "\n",
    "plt.style.use('default')\n",
    "plt.rcParams['savefig.format'] = 'svg'\n",
    "%matplotlib inline\n",
    "shap.waterfall_plot(expl, show=False)\n",
    "plt.savefig('figure/局部加速.svg', dpi=600, bbox_inches='tight')\n",
    "plt.close()"
   ],
   "metadata": {
    "collapsed": false,
    "pycharm": {
     "name": "#%%\n"
    },
    "ExecuteTime": {
     "end_time": "2024-08-08T15:49:26.606484Z",
     "start_time": "2024-08-08T15:49:26.315919Z"
    }
   },
   "outputs": [],
   "execution_count": 307
  },
  {
   "cell_type": "code",
   "source": [
    "sample_index = indices_1[0]  # 样本索引\n",
    "out_index = 1  # 输出索引\n",
    "shapley_value = aaaaa[sample_index][out_index].numpy()\n",
    "base_value = model_q_net(background)[0][out_index].detach().numpy()\n",
    "\n",
    "base_value"
   ],
   "metadata": {
    "collapsed": false,
    "pycharm": {
     "name": "#%%\n"
    },
    "ExecuteTime": {
     "end_time": "2024-08-08T15:49:26.615446Z",
     "start_time": "2024-08-08T15:49:26.608765Z"
    }
   },
   "outputs": [
    {
     "data": {
      "text/plain": [
       "array(-0.62290776, dtype=float32)"
      ]
     },
     "execution_count": 308,
     "metadata": {},
     "output_type": "execute_result"
    }
   ],
   "execution_count": 308
  },
  {
   "cell_type": "code",
   "source": [
    "base_value.item()"
   ],
   "metadata": {
    "collapsed": false,
    "pycharm": {
     "name": "#%%\n"
    },
    "ExecuteTime": {
     "end_time": "2024-08-08T15:49:26.621594Z",
     "start_time": "2024-08-08T15:49:26.617086Z"
    }
   },
   "outputs": [
    {
     "data": {
      "text/plain": [
       "-0.6229077577590942"
      ]
     },
     "execution_count": 309,
     "metadata": {},
     "output_type": "execute_result"
    }
   ],
   "execution_count": 309
  },
  {
   "cell_type": "code",
   "source": "model_q_net(background)",
   "metadata": {
    "collapsed": false,
    "pycharm": {
     "name": "#%%\n"
    },
    "ExecuteTime": {
     "end_time": "2024-08-08T15:49:26.628644Z",
     "start_time": "2024-08-08T15:49:26.623241Z"
    }
   },
   "outputs": [
    {
     "data": {
      "text/plain": [
       "tensor([[-0.5662, -0.6229, -0.7714]], grad_fn=<AddmmBackward0>)"
      ]
     },
     "execution_count": 310,
     "metadata": {},
     "output_type": "execute_result"
    }
   ],
   "execution_count": 310
  },
  {
   "cell_type": "markdown",
   "source": [
    "### 全局解释图"
   ],
   "metadata": {
    "collapsed": false
   }
  },
  {
   "cell_type": "code",
   "source": [
    "stacked_tensor = torch.stack(aaaaa)\n",
    "obs_name = ['$d$', '$\\Delta v$', '$v$']\n",
    "shap.summary_plot(stacked_tensor[indices_0, 0,:].numpy(), data_x[indices_0].numpy(), feature_names=obs_name, show=False)\n",
    "plt.savefig('figure/减速情况1.svg',dpi=600, bbox_inches='tight')\n",
    "plt.close()"
   ],
   "metadata": {
    "collapsed": false,
    "pycharm": {
     "name": "#%%\n"
    },
    "ExecuteTime": {
     "end_time": "2024-08-08T15:49:26.830461Z",
     "start_time": "2024-08-08T15:49:26.630256Z"
    }
   },
   "outputs": [],
   "execution_count": 311
  },
  {
   "cell_type": "code",
   "source": [
    "\n",
    "shap.summary_plot(stacked_tensor[indices_1, 1, :].numpy(), data_x[indices_1].numpy(), feature_names=obs_name, show=False)\n",
    "plt.savefig('figure/保持情况1.svg',dpi=600, bbox_inches='tight')\n",
    "plt.close()"
   ],
   "metadata": {
    "collapsed": false,
    "pycharm": {
     "name": "#%%\n"
    },
    "ExecuteTime": {
     "end_time": "2024-08-08T15:49:27.045807Z",
     "start_time": "2024-08-08T15:49:26.832612Z"
    }
   },
   "outputs": [],
   "execution_count": 312
  },
  {
   "cell_type": "code",
   "source": [
    "stacked_tensor = torch.stack(aaaaa)\n",
    "\n",
    "shap.summary_plot(stacked_tensor[indices_2, 2, :].numpy(), data_x[indices_2].numpy(), feature_names=obs_name, show=False)\n",
    "plt.savefig('figure/加速情况1.svg',dpi=600, bbox_inches='tight')\n",
    "plt.close()"
   ],
   "metadata": {
    "collapsed": false,
    "pycharm": {
     "name": "#%%\n"
    },
    "ExecuteTime": {
     "end_time": "2024-08-08T15:49:46.226308Z",
     "start_time": "2024-08-08T15:49:46.015582Z"
    }
   },
   "outputs": [],
   "execution_count": 314
  }
 ],
 "metadata": {
  "kernelspec": {
   "name": "python3",
   "language": "python",
   "display_name": "Python 3 (ipykernel)"
  },
  "language_info": {
   "codemirror_mode": {
    "name": "ipython",
    "version": 2
   },
   "file_extension": ".py",
   "mimetype": "text/x-python",
   "name": "python",
   "nbconvert_exporter": "python",
   "pygments_lexer": "ipython2",
   "version": "2.7.6"
  }
 },
 "nbformat": 4,
 "nbformat_minor": 0
}
