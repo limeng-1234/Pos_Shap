{
 "cells": [
  {
   "cell_type": "code",
   "execution_count": 2,
   "metadata": {
    "collapsed": true
   },
   "outputs": [
    {
     "ename": "AttributeError",
     "evalue": "Can't get attribute '_make_function' on <module 'cloudpickle.cloudpickle' from 'D:\\\\anaconda\\\\envs\\\\Shapley-flow-v1\\\\lib\\\\site-packages\\\\cloudpickle\\\\cloudpickle.py'>",
     "output_type": "error",
     "traceback": [
      "\u001B[1;31m---------------------------------------------------------------------------\u001B[0m",
      "\u001B[1;31mAttributeError\u001B[0m                            Traceback (most recent call last)",
      "Input \u001B[1;32mIn [2]\u001B[0m, in \u001B[0;36m<cell line: 5>\u001B[1;34m()\u001B[0m\n\u001B[0;32m      2\u001B[0m \u001B[38;5;28;01mimport\u001B[39;00m \u001B[38;5;21;01mtorch\u001B[39;00m\n\u001B[0;32m      3\u001B[0m \u001B[38;5;28;01mfrom\u001B[39;00m \u001B[38;5;21;01mstable_baselines3\u001B[39;00m \u001B[38;5;28;01mimport\u001B[39;00m DQN\n\u001B[1;32m----> 5\u001B[0m model \u001B[38;5;241m=\u001B[39m \u001B[43mDQN\u001B[49m\u001B[38;5;241;43m.\u001B[39;49m\u001B[43mload\u001B[49m\u001B[43m(\u001B[49m\u001B[38;5;124;43m\"\u001B[39;49m\u001B[38;5;124;43m./model/collision0.7speed0.4distance0.4\u001B[39;49m\u001B[38;5;124;43m\"\u001B[39;49m\u001B[43m,\u001B[49m\u001B[43mdevice\u001B[49m\u001B[38;5;241;43m=\u001B[39;49m\u001B[38;5;124;43m'\u001B[39;49m\u001B[38;5;124;43mcpu\u001B[39;49m\u001B[38;5;124;43m'\u001B[39;49m\u001B[43m)\u001B[49m\n",
      "File \u001B[1;32mD:\\anaconda\\envs\\Shapley-flow-v1\\lib\\site-packages\\stable_baselines3\\common\\base_class.py:757\u001B[0m, in \u001B[0;36mBaseAlgorithm.load\u001B[1;34m(cls, path, env, device, custom_objects, print_system_info, force_reset, **kwargs)\u001B[0m\n\u001B[0;32m    754\u001B[0m     \u001B[38;5;28mprint\u001B[39m(\u001B[38;5;124m\"\u001B[39m\u001B[38;5;124m== CURRENT SYSTEM INFO ==\u001B[39m\u001B[38;5;124m\"\u001B[39m)\n\u001B[0;32m    755\u001B[0m     get_system_info()\n\u001B[1;32m--> 757\u001B[0m data, params, pytorch_variables \u001B[38;5;241m=\u001B[39m \u001B[43mload_from_zip_file\u001B[49m\u001B[43m(\u001B[49m\n\u001B[0;32m    758\u001B[0m \u001B[43m    \u001B[49m\u001B[43mpath\u001B[49m\u001B[43m,\u001B[49m\n\u001B[0;32m    759\u001B[0m \u001B[43m    \u001B[49m\u001B[43mdevice\u001B[49m\u001B[38;5;241;43m=\u001B[39;49m\u001B[43mdevice\u001B[49m\u001B[43m,\u001B[49m\n\u001B[0;32m    760\u001B[0m \u001B[43m    \u001B[49m\u001B[43mcustom_objects\u001B[49m\u001B[38;5;241;43m=\u001B[39;49m\u001B[43mcustom_objects\u001B[49m\u001B[43m,\u001B[49m\n\u001B[0;32m    761\u001B[0m \u001B[43m    \u001B[49m\u001B[43mprint_system_info\u001B[49m\u001B[38;5;241;43m=\u001B[39;49m\u001B[43mprint_system_info\u001B[49m\u001B[43m,\u001B[49m\n\u001B[0;32m    762\u001B[0m \u001B[43m\u001B[49m\u001B[43m)\u001B[49m\n\u001B[0;32m    764\u001B[0m \u001B[38;5;66;03m# Remove stored device information and replace with ours\u001B[39;00m\n\u001B[0;32m    765\u001B[0m \u001B[38;5;28;01mif\u001B[39;00m \u001B[38;5;124m\"\u001B[39m\u001B[38;5;124mpolicy_kwargs\u001B[39m\u001B[38;5;124m\"\u001B[39m \u001B[38;5;129;01min\u001B[39;00m data:\n",
      "File \u001B[1;32mD:\\anaconda\\envs\\Shapley-flow-v1\\lib\\site-packages\\stable_baselines3\\common\\save_util.py:419\u001B[0m, in \u001B[0;36mload_from_zip_file\u001B[1;34m(load_path, load_data, custom_objects, device, verbose, print_system_info)\u001B[0m\n\u001B[0;32m    415\u001B[0m \u001B[38;5;28;01mif\u001B[39;00m \u001B[38;5;124m\"\u001B[39m\u001B[38;5;124mdata\u001B[39m\u001B[38;5;124m\"\u001B[39m \u001B[38;5;129;01min\u001B[39;00m namelist \u001B[38;5;129;01mand\u001B[39;00m load_data:\n\u001B[0;32m    416\u001B[0m     \u001B[38;5;66;03m# Load class parameters that are stored\u001B[39;00m\n\u001B[0;32m    417\u001B[0m     \u001B[38;5;66;03m# with either JSON or pickle (not PyTorch variables).\u001B[39;00m\n\u001B[0;32m    418\u001B[0m     json_data \u001B[38;5;241m=\u001B[39m archive\u001B[38;5;241m.\u001B[39mread(\u001B[38;5;124m\"\u001B[39m\u001B[38;5;124mdata\u001B[39m\u001B[38;5;124m\"\u001B[39m)\u001B[38;5;241m.\u001B[39mdecode()\n\u001B[1;32m--> 419\u001B[0m     data \u001B[38;5;241m=\u001B[39m \u001B[43mjson_to_data\u001B[49m\u001B[43m(\u001B[49m\u001B[43mjson_data\u001B[49m\u001B[43m,\u001B[49m\u001B[43m \u001B[49m\u001B[43mcustom_objects\u001B[49m\u001B[38;5;241;43m=\u001B[39;49m\u001B[43mcustom_objects\u001B[49m\u001B[43m)\u001B[49m\n\u001B[0;32m    421\u001B[0m \u001B[38;5;66;03m# Check for all .pth files and load them using th.load.\u001B[39;00m\n\u001B[0;32m    422\u001B[0m \u001B[38;5;66;03m# \"pytorch_variables.pth\" stores PyTorch variables, and any other .pth\u001B[39;00m\n\u001B[0;32m    423\u001B[0m \u001B[38;5;66;03m# files store state_dicts of variables with custom names (e.g. policy, policy.optimizer)\u001B[39;00m\n\u001B[0;32m    424\u001B[0m pth_files \u001B[38;5;241m=\u001B[39m [file_name \u001B[38;5;28;01mfor\u001B[39;00m file_name \u001B[38;5;129;01min\u001B[39;00m namelist \u001B[38;5;28;01mif\u001B[39;00m os\u001B[38;5;241m.\u001B[39mpath\u001B[38;5;241m.\u001B[39msplitext(file_name)[\u001B[38;5;241m1\u001B[39m] \u001B[38;5;241m==\u001B[39m \u001B[38;5;124m\"\u001B[39m\u001B[38;5;124m.pth\u001B[39m\u001B[38;5;124m\"\u001B[39m]\n",
      "File \u001B[1;32mD:\\anaconda\\envs\\Shapley-flow-v1\\lib\\site-packages\\stable_baselines3\\common\\save_util.py:164\u001B[0m, in \u001B[0;36mjson_to_data\u001B[1;34m(json_string, custom_objects)\u001B[0m\n\u001B[0;32m    162\u001B[0m \u001B[38;5;28;01mtry\u001B[39;00m:\n\u001B[0;32m    163\u001B[0m     base64_object \u001B[38;5;241m=\u001B[39m base64\u001B[38;5;241m.\u001B[39mb64decode(serialization\u001B[38;5;241m.\u001B[39mencode())\n\u001B[1;32m--> 164\u001B[0m     deserialized_object \u001B[38;5;241m=\u001B[39m \u001B[43mcloudpickle\u001B[49m\u001B[38;5;241;43m.\u001B[39;49m\u001B[43mloads\u001B[49m\u001B[43m(\u001B[49m\u001B[43mbase64_object\u001B[49m\u001B[43m)\u001B[49m\n\u001B[0;32m    165\u001B[0m \u001B[38;5;28;01mexcept\u001B[39;00m (\u001B[38;5;167;01mRuntimeError\u001B[39;00m, \u001B[38;5;167;01mTypeError\u001B[39;00m):\n\u001B[0;32m    166\u001B[0m     warnings\u001B[38;5;241m.\u001B[39mwarn(\n\u001B[0;32m    167\u001B[0m         \u001B[38;5;124mf\u001B[39m\u001B[38;5;124m\"\u001B[39m\u001B[38;5;124mCould not deserialize object \u001B[39m\u001B[38;5;132;01m{\u001B[39;00mdata_key\u001B[38;5;132;01m}\u001B[39;00m\u001B[38;5;124m. \u001B[39m\u001B[38;5;124m\"\u001B[39m\n\u001B[0;32m    168\u001B[0m         \u001B[38;5;241m+\u001B[39m \u001B[38;5;124m\"\u001B[39m\u001B[38;5;124mConsider using `custom_objects` argument to replace \u001B[39m\u001B[38;5;124m\"\u001B[39m\n\u001B[0;32m    169\u001B[0m         \u001B[38;5;241m+\u001B[39m \u001B[38;5;124m\"\u001B[39m\u001B[38;5;124mthis object.\u001B[39m\u001B[38;5;124m\"\u001B[39m\n\u001B[0;32m    170\u001B[0m     )\n",
      "\u001B[1;31mAttributeError\u001B[0m: Can't get attribute '_make_function' on <module 'cloudpickle.cloudpickle' from 'D:\\\\anaconda\\\\envs\\\\Shapley-flow-v1\\\\lib\\\\site-packages\\\\cloudpickle\\\\cloudpickle.py'>"
     ]
    }
   ],
   "source": [
    "# 加载模型\n",
    "import torch\n",
    "from stable_baselines3 import DQN\n",
    "\n",
    "model = DQN.load(\"./model/collision0.7speed0.4distance0.4\",device='cpu')"
   ]
  },
  {
   "cell_type": "code",
   "execution_count": 3,
   "outputs": [
    {
     "name": "stdout",
     "output_type": "stream",
     "text": [
      "4\n"
     ]
    }
   ],
   "source": [
    "import pickle\n",
    "\n",
    "print(pickle.HIGHEST_PROTOCOL)"
   ],
   "metadata": {
    "collapsed": false,
    "pycharm": {
     "name": "#%%\n"
    }
   }
  },
  {
   "cell_type": "code",
   "execution_count": 6,
   "outputs": [
    {
     "name": "stdout",
     "output_type": "stream",
     "text": [
      "3.7.11 (default, Jul 27 2021, 09:42:29) [MSC v.1916 64 bit (AMD64)]\n"
     ]
    }
   ],
   "source": [
    "import sys\n",
    "\n",
    "print(sys.version)"
   ],
   "metadata": {
    "collapsed": false,
    "pycharm": {
     "name": "#%%\n"
    }
   }
  },
  {
   "cell_type": "code",
   "execution_count": null,
   "outputs": [],
   "source": [],
   "metadata": {
    "collapsed": false,
    "pycharm": {
     "name": "#%%\n"
    }
   }
  }
 ],
 "metadata": {
  "kernelspec": {
   "name": "shapley-flow-v1",
   "language": "python",
   "display_name": "Shapley-flow-v1_jupyter"
  },
  "language_info": {
   "codemirror_mode": {
    "name": "ipython",
    "version": 2
   },
   "file_extension": ".py",
   "mimetype": "text/x-python",
   "name": "python",
   "nbconvert_exporter": "python",
   "pygments_lexer": "ipython2",
   "version": "2.7.6"
  }
 },
 "nbformat": 4,
 "nbformat_minor": 0
}