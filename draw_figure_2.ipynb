{
 "cells": [
  {
   "cell_type": "code",
   "metadata": {
    "collapsed": true,
    "pycharm": {
     "is_executing": true
    },
    "ExecuteTime": {
     "end_time": "2024-08-04T07:08:18.076399Z",
     "start_time": "2024-08-04T07:08:18.061241Z"
    }
   },
   "source": [
    "# 加载模型\n",
    "import torch\n",
    "from stable_baselines3 import DQN\n",
    "import pandas as pd\n",
    "\n",
    "# model = DQN.load(\"./model/SACE_dqn_model\",device='cpu')\n",
    "# model_lane_change = model.policy.q_net.q_net\n",
    "model_path = \"./model/model_test1\"\n",
    "device = 'cpu'  # 如果需要在 GPU 上推断，可以改为 'cuda'\n",
    "model = DQN.load(model_path, device=device)\n",
    "model_lane_change = model.policy.q_net.q_net\n",
    "# data = torch.load(\"./data/SACE_dqn_data.pth\")\n",
    "# data_x = torch.stack(data)"
   ],
   "outputs": [],
   "execution_count": 24
  },
  {
   "cell_type": "code",
   "source": [
    "data_pd = pd.read_csv(\"./data/obs_data.csv\")\n",
    "data_tensor = torch.tensor(data_pd.values, dtype=torch.float32)\n",
    "\n",
    "# 从 tensor_data 中随机选择 1000 个样本\n",
    "num_samples_to_select = 1000\n",
    "data_x = data_tensor[0:999]"
   ],
   "metadata": {
    "collapsed": false,
    "pycharm": {
     "name": "#%%\n"
    },
    "ExecuteTime": {
     "end_time": "2024-08-04T07:08:18.148235Z",
     "start_time": "2024-08-04T07:08:18.123881Z"
    }
   },
   "outputs": [],
   "execution_count": 25
  },
  {
   "cell_type": "code",
   "source": [
    "# import pandas as pd\n",
    "# import shap\n",
    "# import matplotlib.font_manager as fm\n",
    "# import matplotlib\n",
    "# matplotlib.use('TkAgg')  # 或其他支持动画的后端，如 'Qt5Agg'\n",
    "# import pickle\n",
    "# import pandas as pd\n",
    "# import shap\n",
    "# # 设置 Matplotlib 的默认样式\n",
    "# import matplotlib.pyplot as plt\n",
    "# plt.style.use('default')\n",
    "# plt.rcParams['savefig.format'] = 'svg'\n",
    "#\n",
    "# # 设置 Matplotlib 的默认背景色为白色\n",
    "# plt.rcParams['axes.facecolor'] = 'white'"
   ],
   "metadata": {
    "collapsed": false,
    "pycharm": {
     "name": "#%%\n"
    },
    "ExecuteTime": {
     "end_time": "2024-08-04T07:08:18.154578Z",
     "start_time": "2024-08-04T07:08:18.150837Z"
    }
   },
   "outputs": [],
   "execution_count": 26
  },
  {
   "cell_type": "code",
   "source": [
    "from FullyNet_Shapleyflowtest import FullyNet_Shapleyflow"
   ],
   "metadata": {
    "collapsed": false,
    "pycharm": {
     "name": "#%%\n"
    },
    "ExecuteTime": {
     "end_time": "2024-08-04T07:08:18.158094Z",
     "start_time": "2024-08-04T07:08:18.155810Z"
    }
   },
   "outputs": [],
   "execution_count": 27
  },
  {
   "metadata": {
    "ExecuteTime": {
     "end_time": "2024-08-04T07:08:18.165523Z",
     "start_time": "2024-08-04T07:08:18.159483Z"
    }
   },
   "cell_type": "code",
   "source": "model_lane_change(data_x)",
   "outputs": [
    {
     "data": {
      "text/plain": [
       "tensor([[4.1519, 4.4522, 4.4544],\n",
       "        [4.0970, 4.3501, 4.2724],\n",
       "        [3.9330, 1.1381, 1.1019],\n",
       "        ...,\n",
       "        [3.6503, 3.7753, 3.9040],\n",
       "        [3.7951, 3.9057, 3.9922],\n",
       "        [3.7543, 3.9404, 3.8586]], grad_fn=<AddmmBackward0>)"
      ]
     },
     "execution_count": 28,
     "metadata": {},
     "output_type": "execute_result"
    }
   ],
   "execution_count": 28
  },
  {
   "cell_type": "code",
   "source": [
    "# max_indices = torch.argmax(model_lane_change(data_x), dim=1)\n",
    "# 找到每组输出的最大值及其索引\n",
    "max_values, max_indices = torch.max(model_lane_change(data_x), dim=1) # 所有被选择的决策索引，及其输出值\n",
    "# 找到最大值中的最小值的索引\n",
    "min_indices_in_max_values = torch.argmin(max_values)  # 输出值最小的索引，正定基值点索引"
   ],
   "metadata": {
    "collapsed": false,
    "pycharm": {
     "name": "#%%\n"
    },
    "ExecuteTime": {
     "end_time": "2024-08-04T07:08:18.173190Z",
     "start_time": "2024-08-04T07:08:18.169375Z"
    }
   },
   "outputs": [],
   "execution_count": 29
  },
  {
   "cell_type": "code",
   "source": [
    "background = data_x[min_indices_in_max_values:min_indices_in_max_values+1]"
   ],
   "metadata": {
    "collapsed": false,
    "pycharm": {
     "name": "#%%\n"
    },
    "ExecuteTime": {
     "end_time": "2024-08-04T07:08:18.176819Z",
     "start_time": "2024-08-04T07:08:18.174573Z"
    }
   },
   "outputs": [],
   "execution_count": 30
  },
  {
   "cell_type": "code",
   "source": [
    "test_aa = FullyNet_Shapleyflow(model_lane_change, background)\n",
    "aaaaa = test_aa.calculate_shapley_flow(data_x)"
   ],
   "metadata": {
    "collapsed": false,
    "pycharm": {
     "name": "#%%\n"
    },
    "ExecuteTime": {
     "end_time": "2024-08-04T07:08:18.777782Z",
     "start_time": "2024-08-04T07:08:18.183630Z"
    }
   },
   "outputs": [],
   "execution_count": 31
  },
  {
   "cell_type": "markdown",
   "source": [
    "## 绘图"
   ],
   "metadata": {
    "collapsed": false,
    "pycharm": {
     "name": "#%% md\n"
    }
   }
  },
  {
   "cell_type": "markdown",
   "source": [
    "### 局部解释图"
   ],
   "metadata": {
    "collapsed": false,
    "pycharm": {
     "name": "#%% md\n"
    }
   }
  },
  {
   "cell_type": "markdown",
   "source": [
    "#### 局部减速解释"
   ],
   "metadata": {
    "collapsed": false,
    "pycharm": {
     "name": "#%% md\n"
    }
   }
  },
  {
   "cell_type": "code",
   "source": [
    "# 找到元素是 0 的索引\n",
    "indices_0 = torch.nonzero(max_indices == 0).squeeze()\n",
    "\n",
    "# 找到元素是 1 的索引\n",
    "indices_1 = torch.nonzero(max_indices == 1).squeeze()\n",
    "\n",
    "# 找到元素是 2 的索引\n",
    "indices_2 = torch.nonzero(max_indices == 2).squeeze()"
   ],
   "metadata": {
    "collapsed": false,
    "pycharm": {
     "name": "#%%\n"
    },
    "ExecuteTime": {
     "end_time": "2024-08-04T07:08:18.782808Z",
     "start_time": "2024-08-04T07:08:18.779669Z"
    }
   },
   "outputs": [],
   "execution_count": 32
  },
  {
   "cell_type": "code",
   "source": [
    "import shap\n",
    "sample_index = indices_0[0]   # 样本索引\n",
    "out_index = 0      # 输出索引\n",
    "shapley_value = aaaaa[sample_index][out_index].numpy()\n",
    "base_value = model_lane_change(background)[0][out_index].detach().numpy()"
   ],
   "metadata": {
    "collapsed": false,
    "pycharm": {
     "name": "#%%\n"
    },
    "ExecuteTime": {
     "end_time": "2024-08-04T07:08:18.786142Z",
     "start_time": "2024-08-04T07:08:18.783550Z"
    }
   },
   "outputs": [],
   "execution_count": 33
  },
  {
   "cell_type": "code",
   "source": [
    "expl = shap.Explanation(values=shapley_value, base_values=base_value.item())\n",
    "expl.data = data_x[sample_index].numpy()\n",
    "obs_name = ['$\\Delta d$', '$\\Delta v$']\n",
    "expl.feature_names = obs_name"
   ],
   "metadata": {
    "collapsed": false,
    "pycharm": {
     "name": "#%%\n"
    },
    "ExecuteTime": {
     "end_time": "2024-08-04T07:08:18.789771Z",
     "start_time": "2024-08-04T07:08:18.787343Z"
    }
   },
   "outputs": [],
   "execution_count": 34
  },
  {
   "cell_type": "code",
   "source": [
    "import matplotlib\n",
    "matplotlib.use('TkAgg')  # 或其他支持动画的后端，如 'Qt5Agg'\n",
    "import pickle\n",
    "import pandas as pd\n",
    "import shap\n",
    "# 设置 Matplotlib 的默认样式\n",
    "import matplotlib.pyplot as plt\n",
    "plt.style.use('default')\n",
    "plt.rcParams['savefig.format'] = 'svg'\n",
    "%matplotlib inline\n",
    "shap.waterfall_plot(expl, show=False)\n",
    "plt.savefig('figure/局部减速.svg',dpi=600, bbox_inches='tight')\n",
    "plt.close()\n",
    "# plt.cla()"
   ],
   "metadata": {
    "collapsed": false,
    "pycharm": {
     "name": "#%%\n"
    },
    "ExecuteTime": {
     "end_time": "2024-08-04T07:08:19.087704Z",
     "start_time": "2024-08-04T07:08:18.790460Z"
    }
   },
   "outputs": [],
   "execution_count": 35
  },
  {
   "cell_type": "markdown",
   "source": [
    "#### 局部保持解释"
   ],
   "metadata": {
    "collapsed": false,
    "pycharm": {
     "name": "#%% md\n"
    }
   }
  },
  {
   "cell_type": "code",
   "source": [
    "sample_index = indices_1[0]  # 样本索引\n",
    "out_index = 1  # 输出索引\n",
    "shapley_value = aaaaa[sample_index][out_index].numpy()\n",
    "base_value = model_lane_change(background)[0][out_index].detach().numpy()\n",
    "expl = shap.Explanation(values=shapley_value, base_values=base_value.item())\n",
    "expl.data = data_x[sample_index].numpy()\n",
    "expl.feature_names = obs_name\n"
   ],
   "metadata": {
    "collapsed": false,
    "pycharm": {
     "name": "#%%\n",
     "is_executing": true
    },
    "ExecuteTime": {
     "end_time": "2024-08-04T07:08:19.093807Z",
     "start_time": "2024-08-04T07:08:19.089162Z"
    }
   },
   "outputs": [],
   "execution_count": 36
  },
  {
   "cell_type": "code",
   "source": [
    "plt.style.use('default')\n",
    "plt.rcParams['savefig.format'] = 'svg'\n",
    "%matplotlib inline\n",
    "shap.waterfall_plot(expl, show=False)\n",
    "plt.savefig('figure/局部保持.svg', dpi=600, bbox_inches='tight')\n",
    "plt.close()\n",
    "# plt.cla()"
   ],
   "metadata": {
    "collapsed": false,
    "pycharm": {
     "name": "#%%\n"
    },
    "ExecuteTime": {
     "end_time": "2024-08-04T07:08:19.363495Z",
     "start_time": "2024-08-04T07:08:19.094774Z"
    }
   },
   "outputs": [],
   "execution_count": 37
  },
  {
   "cell_type": "markdown",
   "source": [
    "#### 局部加速解释"
   ],
   "metadata": {
    "collapsed": false,
    "pycharm": {
     "name": "#%% md\n"
    }
   }
  },
  {
   "cell_type": "code",
   "source": [
    "sample_index = indices_2[0]  # 样本索引\n",
    "out_index = 2  # 输出索引\n",
    "shapley_value = aaaaa[sample_index][out_index].numpy()\n",
    "base_value = model_lane_change(background)[0][out_index].detach().numpy()\n",
    "expl = shap.Explanation(values=shapley_value, base_values=base_value.item())\n",
    "expl.data = data_x[sample_index].numpy()\n",
    "expl.feature_names = obs_name\n",
    "\n",
    "\n",
    "plt.style.use('default')\n",
    "plt.rcParams['savefig.format'] = 'svg'\n",
    "%matplotlib inline\n",
    "shap.waterfall_plot(expl, show=False)\n",
    "plt.savefig('figure/局部加速.svg', dpi=600, bbox_inches='tight')\n",
    "plt.close()"
   ],
   "metadata": {
    "collapsed": false,
    "pycharm": {
     "name": "#%%\n"
    },
    "ExecuteTime": {
     "end_time": "2024-08-04T07:08:19.835990Z",
     "start_time": "2024-08-04T07:08:19.364873Z"
    }
   },
   "outputs": [],
   "execution_count": 38
  },
  {
   "cell_type": "code",
   "source": [
    "sample_index = indices_1[0]  # 样本索引\n",
    "out_index = 1  # 输出索引\n",
    "shapley_value = aaaaa[sample_index][out_index].numpy()\n",
    "base_value = model_lane_change(background)[0][out_index].detach().numpy()\n",
    "\n",
    "base_value"
   ],
   "metadata": {
    "collapsed": false,
    "pycharm": {
     "name": "#%%\n"
    },
    "ExecuteTime": {
     "end_time": "2024-08-04T07:08:19.842952Z",
     "start_time": "2024-08-04T07:08:19.837443Z"
    }
   },
   "outputs": [
    {
     "data": {
      "text/plain": [
       "array(1.8108337, dtype=float32)"
      ]
     },
     "execution_count": 39,
     "metadata": {},
     "output_type": "execute_result"
    }
   ],
   "execution_count": 39
  },
  {
   "cell_type": "code",
   "source": [
    "base_value.item()"
   ],
   "metadata": {
    "collapsed": false,
    "pycharm": {
     "name": "#%%\n"
    },
    "ExecuteTime": {
     "end_time": "2024-08-04T07:08:19.847768Z",
     "start_time": "2024-08-04T07:08:19.844868Z"
    }
   },
   "outputs": [
    {
     "data": {
      "text/plain": [
       "1.8108336925506592"
      ]
     },
     "execution_count": 40,
     "metadata": {},
     "output_type": "execute_result"
    }
   ],
   "execution_count": 40
  },
  {
   "cell_type": "code",
   "source": [
    "model_lane_change(background)"
   ],
   "metadata": {
    "collapsed": false,
    "pycharm": {
     "name": "#%%\n"
    },
    "ExecuteTime": {
     "end_time": "2024-08-04T07:09:10.816327Z",
     "start_time": "2024-08-04T07:09:10.808253Z"
    }
   },
   "outputs": [
    {
     "data": {
      "text/plain": [
       "tensor([[3.5513, 1.8108, 0.1044]], grad_fn=<AddmmBackward0>)"
      ]
     },
     "execution_count": 45,
     "metadata": {},
     "output_type": "execute_result"
    }
   ],
   "execution_count": 45
  },
  {
   "cell_type": "markdown",
   "source": [
    "### 全局解释图"
   ],
   "metadata": {
    "collapsed": false
   }
  },
  {
   "cell_type": "code",
   "source": [
    "stacked_tensor = torch.stack(aaaaa)\n",
    "obs_name = ['$d$', '$\\Delta v$']\n",
    "shap.summary_plot(stacked_tensor[indices_0, 0,:].numpy(), data_x[indices_0].numpy(), feature_names=obs_name, show=False)\n",
    "plt.savefig('figure/减速情况1.svg',dpi=600, bbox_inches='tight')\n",
    "plt.close()"
   ],
   "metadata": {
    "collapsed": false,
    "pycharm": {
     "name": "#%%\n"
    },
    "ExecuteTime": {
     "end_time": "2024-08-04T07:09:11.041012Z",
     "start_time": "2024-08-04T07:09:10.834837Z"
    }
   },
   "outputs": [],
   "execution_count": 46
  },
  {
   "cell_type": "code",
   "source": [
    "\n",
    "shap.summary_plot(stacked_tensor[indices_1, 1, :].numpy(), data_x[indices_1].numpy(), feature_names=obs_name, show=False)\n",
    "plt.savefig('figure/保持情况1.svg',dpi=600, bbox_inches='tight')\n",
    "plt.close()"
   ],
   "metadata": {
    "collapsed": false,
    "pycharm": {
     "name": "#%%\n"
    },
    "ExecuteTime": {
     "end_time": "2024-08-04T07:09:11.225629Z",
     "start_time": "2024-08-04T07:09:11.042686Z"
    }
   },
   "outputs": [],
   "execution_count": 47
  },
  {
   "cell_type": "code",
   "source": [
    "stacked_tensor = torch.stack(aaaaa)\n",
    "\n",
    "shap.summary_plot(stacked_tensor[indices_2, 2, :].numpy(), data_x[indices_2].numpy(), feature_names=obs_name, show=False)\n",
    "plt.savefig('figure/加速情况1.svg',dpi=600, bbox_inches='tight')\n",
    "plt.close()"
   ],
   "metadata": {
    "collapsed": false,
    "pycharm": {
     "name": "#%%\n"
    },
    "ExecuteTime": {
     "end_time": "2024-08-04T07:09:11.450038Z",
     "start_time": "2024-08-04T07:09:11.226995Z"
    }
   },
   "outputs": [],
   "execution_count": 48
  }
 ],
 "metadata": {
  "kernelspec": {
   "name": "python3",
   "language": "python",
   "display_name": "Python 3 (ipykernel)"
  },
  "language_info": {
   "codemirror_mode": {
    "name": "ipython",
    "version": 2
   },
   "file_extension": ".py",
   "mimetype": "text/x-python",
   "name": "python",
   "nbconvert_exporter": "python",
   "pygments_lexer": "ipython2",
   "version": "2.7.6"
  }
 },
 "nbformat": 4,
 "nbformat_minor": 0
}
